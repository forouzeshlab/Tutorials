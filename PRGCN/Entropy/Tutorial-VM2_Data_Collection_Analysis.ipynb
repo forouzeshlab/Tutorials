{
 "cells": [
  {
   "cell_type": "markdown",
   "id": "404d5ed7",
   "metadata": {},
   "source": [
    "# Data collection and basic featurizer usage tutorial\n",
    "This notebook reads all output of VerraChem v3.0 ran on the following structures:\n",
    "<ol>\n",
    "    <p>CB7 Gilson</p>\n",
    "    <p>Mobley Set1</p>\n",
    "    <p>Mobley Set2</p>\n",
    "    <p>Sampl3</p>\n",
    "    <p>Sampl6</p>\n",
    "    <p>Sampl4</p>\n",
    "    <p>BRD4 - the only protein ligand structure</p>\n",
    "</ol>\n",
    "The above datasets are used to prepare input to PRGCN model. There are more datasets in VM2 that can be used to predict only binding free energy.\n",
    "We also go through very basic featurizer use cases. Here, we focus on features can be obtained using RDKit and only do analysis on dataset."
   ]
  },
  {
   "cell_type": "code",
   "execution_count": 1,
   "id": "e96abd52",
   "metadata": {
    "pycharm": {
     "name": "#%%\n"
    }
   },
   "outputs": [
    {
     "name": "stderr",
     "output_type": "stream",
     "text": [
      "2023-06-29 14:49:27.114061: I tensorflow/tsl/cuda/cudart_stub.cc:28] Could not find cuda drivers on your machine, GPU will not be used.\n",
      "2023-06-29 14:49:27.149326: I tensorflow/tsl/cuda/cudart_stub.cc:28] Could not find cuda drivers on your machine, GPU will not be used.\n",
      "2023-06-29 14:49:27.150248: I tensorflow/core/platform/cpu_feature_guard.cc:182] This TensorFlow binary is optimized to use available CPU instructions in performance-critical operations.\n",
      "To enable the following instructions: AVX2 FMA, in other operations, rebuild TensorFlow with the appropriate compiler flags.\n",
      "2023-06-29 14:49:27.779177: W tensorflow/compiler/tf2tensorrt/utils/py_utils.cc:38] TF-TRT Warning: Could not find TensorRT\n"
     ]
    }
   ],
   "source": [
    "import pandas as pd\n",
    "import matplotlib.pyplot as plt\n",
    "import numpy as np\n",
    "import os\n",
    "from rdkit import Chem\n",
    "from deepchem.feat.graph_features import atom_features as get_atom_features\n",
    "import rdkit\n",
    "import pickle"
   ]
  },
  {
   "cell_type": "code",
   "execution_count": 2,
   "id": "ac5f7907",
   "metadata": {
    "pycharm": {
     "name": "#%%\n"
    }
   },
   "outputs": [],
   "source": [
    "PDBs = {}"
   ]
  },
  {
   "cell_type": "code",
   "execution_count": 3,
   "id": "04608211",
   "metadata": {},
   "outputs": [],
   "source": [
    "VM2_dataset_path = '/home/ali/GBNN/Datasets/VM2_data/'"
   ]
  },
  {
   "cell_type": "markdown",
   "id": "a2672770",
   "metadata": {
    "pycharm": {
     "name": "#%% md\n"
    }
   },
   "source": [
    "# cb7_gilson_feprocess"
   ]
  },
  {
   "cell_type": "markdown",
   "id": "1bb3043f",
   "metadata": {
    "pycharm": {
     "name": "#%% md\n"
    }
   },
   "source": [
    "# CSV"
   ]
  },
  {
   "cell_type": "markdown",
   "id": "2870f930",
   "metadata": {},
   "source": [
    "Reading all output generated using VM2"
   ]
  },
  {
   "cell_type": "code",
   "execution_count": 4,
   "id": "0e44ef54",
   "metadata": {
    "pycharm": {
     "name": "#%%\n"
    }
   },
   "outputs": [],
   "source": [
    "df_com = pd.read_csv(VM2_dataset_path + 'cb7_gilson_feprocess/cb7_feprocess_complex.csv')\n",
    "df_lig = pd.read_csv(VM2_dataset_path + 'cb7_gilson_feprocess/feprocess_ligand.csv')\n",
    "df_hos = pd.read_csv(VM2_dataset_path + 'cb7_gilson_feprocess/cb7_feprocess_host.csv')"
   ]
  },
  {
   "cell_type": "markdown",
   "id": "33b0b87d",
   "metadata": {},
   "source": [
    "Storing all structures as RDKit Mol object to use them in analysis."
   ]
  },
  {
   "cell_type": "code",
   "execution_count": 5,
   "id": "07cd846a",
   "metadata": {
    "pycharm": {
     "name": "#%%\n"
    }
   },
   "outputs": [],
   "source": [
    "path = VM2_dataset_path + 'cb7_gilson_feprocess/'\n",
    "host_pdb = Chem.SDMolSupplier(path + 'hosts/cb7.sdf')[0]\n",
    "ligands_pdb = Chem.SDMolSupplier(path + 'ligands/cb7_ligands.sdf')\n",
    "PDBs_cb7_gilson = {'gilson_cb7--guest%d' % (i + 1): Chem.CombineMols(host_pdb, ligands_pdb[i]) for i in range(29)}\n",
    "PDBs.update(PDBs_cb7_gilson)"
   ]
  },
  {
   "cell_type": "markdown",
   "id": "b20a18bb",
   "metadata": {
    "pycharm": {
     "name": "#%% md\n"
    }
   },
   "source": [
    "# cd_mobley_set2"
   ]
  },
  {
   "cell_type": "markdown",
   "id": "4d44e91b",
   "metadata": {},
   "source": [
    "Reading all output generated using VM2"
   ]
  },
  {
   "cell_type": "code",
   "execution_count": 7,
   "id": "b6cde643",
   "metadata": {
    "pycharm": {
     "name": "#%%\n"
    }
   },
   "outputs": [],
   "source": [
    "df_com = pd.concat([df_com, pd.read_csv(VM2_dataset_path + 'cd_mobley_set2/b-cyclodex_feprocess_complex.csv')], ignore_index=True)\n",
    "df_lig = pd.concat([df_lig, pd.read_csv(VM2_dataset_path + 'cd_mobley_set2/feprocess_ligand.csv')], ignore_index=True)\n",
    "df_hos = pd.concat([df_hos, pd.read_csv(VM2_dataset_path + 'cd_mobley_set2/b-cyclodex_feprocess_host.csv')], ignore_index=True)"
   ]
  },
  {
   "cell_type": "markdown",
   "id": "c45f99e4",
   "metadata": {},
   "source": [
    "Storing all structures as RDKit Mol object to use them in analysis."
   ]
  },
  {
   "cell_type": "code",
   "execution_count": 8,
   "id": "9f5ec8a0",
   "metadata": {
    "pycharm": {
     "name": "#%%\n"
    }
   },
   "outputs": [],
   "source": [
    "path = VM2_dataset_path + 'cd_mobley_set2/'\n",
    "host_pdb = Chem.SDMolSupplier(path + 'hosts/b-cyclodex.sdf')[0]\n",
    "ligands_pdb = Chem.SDMolSupplier(path + 'ligands/cdset2_ligands.sdf')\n",
    "PDBs_cdset2 = {'mobley_set2_b-cyclodex--guest-%d' % (i + 1) if i < 12 else 'mobley_set2_b-cyclodex--guest-s%d' % (i + 1): Chem.CombineMols(host_pdb, ligands_pdb[i]) for i in range(21)}\n",
    "PDBs.update(PDBs_cdset2)"
   ]
  },
  {
   "cell_type": "markdown",
   "id": "1bcde4df",
   "metadata": {},
   "source": [
    "# TODO: read data from all other datasets not used here and store their information in df_all and PDBs variables respectively\n",
    "## Clone dataset from the repository and check VM2_data directory and add structures not mentioned here (do not read BRD4 as it is a protein-ligand structure and is added in the following)"
   ]
  },
  {
   "cell_type": "code",
   "execution_count": null,
   "id": "98ee1b71",
   "metadata": {},
   "outputs": [],
   "source": []
  },
  {
   "cell_type": "markdown",
   "id": "80905d79",
   "metadata": {},
   "source": [
    "# TODO: Draw histogram graphs based on the following properties:\n",
    "<ol>\n",
    "    <p>Bond types</p>\n",
    "    <p>Number of atoms (done as a sample)</p>\n",
    "    <p>Number of bonds</p>\n",
    "    <p>Number of aromatic atoms (in bins of 1)</p>\n",
    "    </ol>"
   ]
  },
  {
   "cell_type": "code",
   "execution_count": 11,
   "id": "33b3f8d5",
   "metadata": {},
   "outputs": [
    {
     "data": {
      "text/plain": [
       "[]"
      ]
     },
     "execution_count": 11,
     "metadata": {},
     "output_type": "execute_result"
    },
    {
     "data": {
      "image/png": "[encoded data removed]",
      "text/plain": [
       "<Figure size 432x288 with 1 Axes>"
      ]
     },
     "metadata": {
      "needs_background": "light"
     },
     "output_type": "display_data"
    }
   ],
   "source": [
    "num_atoms = []\n",
    "for pdb_name in PDBs.keys():\n",
    "    pdb = PDBs[pdb_name]\n",
    "    num_atoms.append(pdb.GetNumAtoms())\n",
    "plt.hist(num_atoms)\n",
    "plt.xlabel('# of Atoms')\n",
    "plt.ylabel('# occurance')\n",
    "plt.plot()"
   ]
  },
  {
   "cell_type": "markdown",
   "id": "550b8a0e",
   "metadata": {},
   "source": [
    "# TODO: now add BRD4 structures and compare the above properties in new structures"
   ]
  },
  {
   "cell_type": "markdown",
   "id": "81ee2f9b",
   "metadata": {
    "pycharm": {
     "name": "#%% md\n"
    }
   },
   "source": [
    "# BRD4 protein"
   ]
  },
  {
   "cell_type": "markdown",
   "id": "83ab507a",
   "metadata": {},
   "source": [
    "Reading all output generated using VM2"
   ]
  },
  {
   "cell_type": "code",
   "execution_count": null,
   "id": "1b248208",
   "metadata": {
    "pycharm": {
     "name": "#%%\n"
    }
   },
   "outputs": [],
   "source": [
    "df_com = pd.concat([df_com, pd.read_csv(VM2_dataset_path + 'BRD4/BRD4_p4a_tleap_vm2_complex.csv')], ignore_index=True)\n",
    "df_hos = pd.concat([df_hos, pd.read_csv(VM2_dataset_path + 'BRD4/BRD4_p4a_tleap_vm2_protein.csv')], ignore_index=True)\n",
    "df_lig = pd.concat([df_lig, pd.read_csv(VM2_dataset_path + 'BRD4/vm2_ligand.csv')], ignore_index=True)"
   ]
  },
  {
   "cell_type": "markdown",
   "id": "992629c8",
   "metadata": {},
   "source": [
    "Storing all structures as RDKit Mol object to use them in analysis."
   ]
  },
  {
   "cell_type": "code",
   "execution_count": 10,
   "id": "cb41d3c5",
   "metadata": {
    "pycharm": {
     "name": "#%%\n"
    }
   },
   "outputs": [],
   "source": [
    "path = VM2_dataset_path + 'BRD4/'\n",
    "protein = Chem.MolFromPDBFile(path + 'protein/BRD4_p4a_tleap.pdb')\n",
    "ligands = [Chem.MolFromMolFile(path + 'ligands/ligand-%d.mol'%(i + 1)) for i in range(10)]\n",
    "PDBs_BRD4 = {'BRD4_p4a_tleap--ligand-%d'%i: Chem.CombineMols(protein, ligands[i]) for i in [3, 5, 6, 7, 8, 9]}\n",
    "PDBs.update(PDBs_BRD4)"
   ]
  }
 ],
 "metadata": {
  "kernelspec": {
   "display_name": "GBNN",
   "language": "python",
   "name": "gbnn"
  },
  "language_info": {
   "codemirror_mode": {
    "name": "ipython",
    "version": 3
   },
   "file_extension": ".py",
   "mimetype": "text/x-python",
   "name": "python",
   "nbconvert_exporter": "python",
   "pygments_lexer": "ipython3",
   "version": "3.8.10"
  }
 },
 "nbformat": 4,
 "nbformat_minor": 5
}
